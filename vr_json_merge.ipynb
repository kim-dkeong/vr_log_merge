{
 "cells": [
  {
   "cell_type": "code",
   "execution_count": 1,
   "id": "5d90a5dd-1f41-44cb-a63a-5d8287ac9b49",
   "metadata": {},
   "outputs": [],
   "source": []
  },
  {
   "cell_type": "code",
   "execution_count": 2,
   "id": "5b776c86-0833-4f69-b899-8d8cd6e8d433",
   "metadata": {},
   "outputs": [
    {
     "name": "stdout",
     "output_type": "stream",
     "text": [
      "Merged JSON saved to merged.json\n"
     ]
    }
   ],
   "source": [
    "import json\n",
    "\n",
    "# JSON 파일 읽기 함수\n",
    "def read_json(file_path):\n",
    "    with open(file_path, 'r') as f:\n",
    "        return json.load(f)\n",
    "\n",
    "# JSON 파일 쓰기 함수\n",
    "def write_json(data, file_path):\n",
    "    with open(file_path, 'w') as f:\n",
    "        json.dump(data, f, indent=4)\n",
    "\n",
    "# 마지막 값 탐색 함\n",
    "def get_last_values(json_data, fields):\n",
    "    last_values = {}  # 유효한 마지막 값을 저장할 딕셔너리\n",
    "\n",
    "    # 역순으로 탐색\n",
    "    for entry in reversed(json_data):\n",
    "        for field in fields:\n",
    "            if field not in last_values:  # 아직 값을 찾지 않은 필드만 처리\n",
    "                if field in entry and isinstance(entry[field], (int, float)):\n",
    "                    last_values[field] = entry[field]  # 숫자 값을 찾으면 저장\n",
    "\n",
    "    # 찾지 못한 필드는 None으로 초기화\n",
    "    for field in fields:\n",
    "        if field not in last_values:\n",
    "            last_values[field] = None\n",
    "\n",
    "    return last_values\n",
    "\n",
    "# JSON 병합 함수\n",
    "def merge_json(json1, json2):\n",
    "    # 첫 번째 JSON의 마지막 값을 가져오기\n",
    "    last_time = json1[-1]['timeSecs']  # 마지막 timeSecs 값\n",
    "    \n",
    "    fields = ['iTrial', 'iTrial1', 'iTrial2', 'iCorrect', 'iCorrect1', 'iCorrect2', 'iReward']\n",
    "    last_values = get_last_values(json1, fields)\n",
    "\n",
    "    # 두 번째 JSON 수정\n",
    "    for entry in json2:\n",
    "        # timeSecs는 항상 존재하므로 누적 합산\n",
    "        entry['timeSecs'] += last_time\n",
    "\n",
    "        # 나머지 필드 처리\n",
    "        for field in fields:\n",
    "            if field in entry:\n",
    "                if isinstance(entry[field], (int, float)):\n",
    "                    # 숫자 값이면 누적\n",
    "                    entry[field] += last_values[field]\n",
    "                else:\n",
    "                    # 비어 있는 값(\"\", null 등)은 그대로 유지\n",
    "                    continue\n",
    "\n",
    "    # 두 JSON 합치기\n",
    "    merged_json = json1 + json2\n",
    "    return merged_json\n",
    " \n",
    "\n",
    "# JSON 파일 경로\n",
    "file1_path = 'path/to/json1'\n",
    "file2_path = 'path/to/json2'\n",
    "output_path = 'output_file_name'\n",
    "\n",
    "# JSON 파일 읽기\n",
    "json1 = read_json(file1_path)\n",
    "json2 = read_json(file2_path)\n",
    "\n",
    "\n",
    "\n",
    "# JSON 합치기\n",
    "merged_json = merge_json(json1, json2)\n",
    "\n",
    "# 결과 JSON 저장\n",
    "write_json(merged_json, output_path)\n",
    "\n",
    "print(f\"Merged JSON saved to {output_path}\")\n"
   ]
  },
  {
   "cell_type": "code",
   "execution_count": null,
   "id": "194098ab-5451-4cca-bbef-722e3237cf17",
   "metadata": {},
   "outputs": [],
   "source": []
  }
 ],
 "metadata": {
  "kernelspec": {
   "display_name": "Python 3 (ipykernel)",
   "language": "python",
   "name": "python3"
  },
  "language_info": {
   "codemirror_mode": {
    "name": "ipython",
    "version": 3
   },
   "file_extension": ".py",
   "mimetype": "text/x-python",
   "name": "python",
   "nbconvert_exporter": "python",
   "pygments_lexer": "ipython3",
   "version": "3.11.7"
  }
 },
 "nbformat": 4,
 "nbformat_minor": 5
}
