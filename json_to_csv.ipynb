{
 "cells": [
  {
   "cell_type": "code",
   "execution_count": 3,
   "id": "485f7054-89ab-432a-8029-8437ac9d9eba",
   "metadata": {},
   "outputs": [],
   "source": [
    "# convert json file to csv\n",
    "import json\n",
    "import csv\n",
    "\n",
    "with open('Log_2024-12-29_19-59-00.json', 'r', encoding = 'utf-8') as input_file, open('Log_2024-12-29_19-59-00.csv', 'w', newline = '',encoding = 'utf-8') as output_file :\n",
    "    data = json.load(input_file)\n",
    "\n",
    "    f = csv.writer(output_file)\n",
    "    \n",
    "    # csv 파일에 header 추가\n",
    "    f.writerow(['timeSecs',\t'frame','timeSecsAfterSplash',\t'frameAfterSplash',\t'refreshRateHz',\t'widthPixels',\t'heightPixels',\t'animalName',\n",
    "                'task',\t'nTrial',\t'rewardAmount',\t'delayDurationStart',\t'delayDurationMean',\t'delayDurationEnd',\t'cueRatio',\t'rewardLatency',\n",
    "                'punishmentLatency',\t'punishmentDuration',\t'note',\t'allowRotationYaw',\t'allowRotationRoll',\t'maxRotationSpeed',\t'followPath',\n",
    "                'reverseDirection',\t'logTreadmill',\t'rollScale',\t'pitchScale',\t'yawScale',\t'forwardMultiplier',\t'sideMultiplier',\t'ballDiameterCentimeter',\n",
    "                'ballArcLengthPerDegree',\t'readTimestampMs',\t'position',\t'speed',\t'rotation',\t'ballSpeed',\t'pitch',\t'roll',\t'yaw',\t'distance',\n",
    "                'events',\t'iState',\t'iTrial',\t'iTrial1',\t'iTrial2',\t'iCorrect',\t'iCorrect1',\t'iCorrect2',\t'iCue',\t'iChoice',\t'iReward',\t'delayDuration',\n",
    "                'numberOfEntriesWritten'\n",
    "])\n",
    "    \n",
    "    for line in data:\n",
    "        f.writerow([\n",
    "            line.get('timeSecs', 'NaN'), line.get('frame', 'NaN'), line.get('timeSecsAfterSplash', 'NaN'), \n",
    "            line.get('frameAfterSplash', 'NaN'), line.get('refreshRateHz', 'NaN'),\n",
    "            line.get('widthPixels', 'NaN'), line.get('heightPixels', 'NaN'), line.get('animalName', 'NaN'), \n",
    "            line.get('task', 'NaN'), line.get('nTrial', 'NaN'), line.get('rewardAmount', 'NaN'),\n",
    "            line.get('delayDurationStart', 'NaN'), line.get('delayDurationMean', 'NaN'), line.get('delayDurationEnd', 'NaN'), \n",
    "            line.get('cueRatio', 'NaN'), line.get('rewardLatency', 'NaN'), line.get('punishmentLatency', 'NaN'), \n",
    "            line.get('punishmentDuration', 'NaN'), line.get('note', 'NaN'), line.get('allowRotationYaw', 'NaN'), \n",
    "            line.get('allowRotationRoll', 'NaN'), line.get('maxRotationSpeed', 'NaN'), line.get('followPath', 'NaN'), \n",
    "            line.get('reverseDirection', 'NaN'), line.get('logTreadmill', 'NaN'), line.get('rollScale', 'NaN'), \n",
    "            line.get('pitchScale', 'NaN'), line.get('yawScale', 'NaN'), line.get('forwardMultiplier', 'NaN'), \n",
    "            line.get('sideMultiplier', 'NaN'), line.get('ballDiameterCentimeter', 'NaN'), line.get('ballArcLengthPerDegree', 'NaN'), \n",
    "            line.get('readTimestampMs', 'NaN'), line.get('position', 'NaN'), line.get('speed', 'NaN'), line.get('rotation', 'NaN'), \n",
    "            line.get('ballSpeed', 'NaN'), line.get('pitch', 'NaN'), line.get('roll', 'NaN'), line.get('yaw', 'NaN'), \n",
    "            line.get('distance', 'NaN'), line.get('events', 'NaN'), line.get('iState', 'NaN'), line.get('iTrial', 'NaN'), \n",
    "            line.get('iTrial1', 'NaN'), line.get('iTrial2', 'NaN'), line.get('iCorrect', 'NaN'), line.get('iCorrect1', 'NaN'), \n",
    "            line.get('iCorrect2', 'NaN'), line.get('iCue', 'NaN'), line.get('iChoice', 'NaN'), line.get('iReward', 'NaN'), \n",
    "            line.get('delayDuration', 'NaN'), line.get('numberOfEntriesWritten', 'NaN')])"
   ]
  },
  {
   "cell_type": "code",
   "execution_count": null,
   "id": "66965505-237d-4bed-83fb-d564876ac28c",
   "metadata": {},
   "outputs": [],
   "source": []
  }
 ],
 "metadata": {
  "kernelspec": {
   "display_name": "Python 3 (ipykernel)",
   "language": "python",
   "name": "python3"
  },
  "language_info": {
   "codemirror_mode": {
    "name": "ipython",
    "version": 3
   },
   "file_extension": ".py",
   "mimetype": "text/x-python",
   "name": "python",
   "nbconvert_exporter": "python",
   "pygments_lexer": "ipython3",
   "version": "3.11.7"
  }
 },
 "nbformat": 4,
 "nbformat_minor": 5
}
